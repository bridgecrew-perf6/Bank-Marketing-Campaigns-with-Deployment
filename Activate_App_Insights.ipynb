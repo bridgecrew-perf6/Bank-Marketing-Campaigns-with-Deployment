{
 "cells": [
  {
   "cell_type": "code",
   "execution_count": 3,
   "metadata": {
    "gather": {
     "logged": 1609777697286
    }
   },
   "outputs": [],
   "source": [
    "from azureml.core import Workspace\n",
    "from azureml.core.webservice import Webservice"
   ]
  },
  {
   "cell_type": "code",
   "execution_count": 4,
   "metadata": {
    "jupyter": {
     "outputs_hidden": false,
     "source_hidden": false
    },
    "nteract": {
     "transient": {
      "deleting": false
     }
    }
   },
   "outputs": [
    {
     "name": "stdout",
     "output_type": "stream",
     "text": [
      "2021-01-04T16:27:24,244057700+00:00 - gunicorn/run \n",
      "2021-01-04T16:27:24,247595800+00:00 - rsyslog/run \n",
      "2021-01-04T16:27:24,241500400+00:00 - iot-server/run \n",
      "rsyslogd: /azureml-envs/azureml_8eff28b157f42edcd2424a5aae6c8074/lib/libuuid.so.1: no version information available (required by rsyslogd)\n",
      "2021-01-04T16:27:24,320176600+00:00 - nginx/run \n",
      "/usr/sbin/nginx: /azureml-envs/azureml_8eff28b157f42edcd2424a5aae6c8074/lib/libcrypto.so.1.0.0: no version information available (required by /usr/sbin/nginx)\n",
      "/usr/sbin/nginx: /azureml-envs/azureml_8eff28b157f42edcd2424a5aae6c8074/lib/libcrypto.so.1.0.0: no version information available (required by /usr/sbin/nginx)\n",
      "/usr/sbin/nginx: /azureml-envs/azureml_8eff28b157f42edcd2424a5aae6c8074/lib/libssl.so.1.0.0: no version information available (required by /usr/sbin/nginx)\n",
      "/usr/sbin/nginx: /azureml-envs/azureml_8eff28b157f42edcd2424a5aae6c8074/lib/libssl.so.1.0.0: no version information available (required by /usr/sbin/nginx)\n",
      "/usr/sbin/nginx: /azureml-envs/azureml_8eff28b157f42edcd2424a5aae6c8074/lib/libssl.so.1.0.0: no version information available (required by /usr/sbin/nginx)\n",
      "Starting gunicorn 19.9.0\n",
      "Listening at: http://127.0.0.1:31311 (70)\n",
      "Using worker: sync\n",
      "worker timeout is set to 300\n",
      "EdgeHubConnectionString and IOTEDGE_IOTHUBHOSTNAME are not set. Exiting...\n",
      "2021-01-04T16:27:25,974091200+00:00 - iot-server/finish 1 0\n",
      "Booting worker with pid: 94\n",
      "2021-01-04T16:27:25,987722800+00:00 - Exit code 1 is normal. Not restarting iot-server.\n",
      "SPARK_HOME not set. Skipping PySpark Initialization.\n",
      "Generating new fontManager, this may take some time...\n",
      "Initializing logger\n",
      "2021-01-04 16:27:30,581 | root | INFO | Starting up app insights client\n",
      "Starting up app insights client\n",
      "2021-01-04 16:27:30,582 | root | INFO | Starting up request id generator\n",
      "Starting up request id generator\n",
      "2021-01-04 16:27:30,582 | root | INFO | Starting up app insight hooks\n",
      "Starting up app insight hooks\n",
      "2021-01-04 16:27:30,583 | root | INFO | Invoking user's init function\n",
      "Invoking user's init function\n",
      "2021-01-04 16:27:38,978 | root | INFO | Users's init has completed successfully\n",
      "Users's init has completed successfully\n",
      "2021-01-04 16:27:38,986 | root | INFO | Skipping middleware: dbg_model_info as it's not enabled.\n",
      "Skipping middleware: dbg_model_info as it's not enabled.\n",
      "2021-01-04 16:27:38,986 | root | INFO | Skipping middleware: dbg_resource_usage as it's not enabled.\n",
      "Skipping middleware: dbg_resource_usage as it's not enabled.\n",
      "2021-01-04 16:27:38,988 | root | INFO | Scoring timeout is found from os.environ: 60000 ms\n",
      "Scoring timeout is found from os.environ: 60000 ms\n",
      "2021-01-04 16:27:39,001 | root | INFO | 200\n",
      "200\n",
      "127.0.0.1 - - [04/Jan/2021:16:27:38 +0000] \"GET /swagger.json HTTP/1.0\" 200 3254 \"-\" \"Go-http-client/1.1\"\n",
      "2021-01-04 16:28:08,259 | root | INFO | 200\n",
      "200\n",
      "127.0.0.1 - - [04/Jan/2021:16:28:08 +0000] \"GET /swagger.json HTTP/1.0\" 200 3254 \"-\" \"Go-http-client/1.1\"\n",
      "2021-01-04 16:28:08,785 | root | INFO | 200\n",
      "200\n",
      "127.0.0.1 - - [04/Jan/2021:16:28:08 +0000] \"GET /swagger.json HTTP/1.0\" 200 3254 \"-\" \"Go-http-client/1.1\"\n",
      "2021-01-04 16:29:52,383 | root | INFO | 200\n",
      "200\n",
      "127.0.0.1 - - [04/Jan/2021:16:29:52 +0000] \"GET /swagger.json HTTP/1.0\" 200 3254 \"-\" \"Go-http-client/1.1\"\n",
      "2021-01-04 16:29:59,151 | root | INFO | 200\n",
      "200\n",
      "127.0.0.1 - - [04/Jan/2021:16:29:59 +0000] \"GET /swagger.json HTTP/1.0\" 200 3254 \"-\" \"Go-http-client/1.1\"\n",
      "\n"
     ]
    }
   ],
   "source": [
    "%run logs.py"
   ]
  },
  {
   "cell_type": "code",
   "execution_count": 6,
   "metadata": {},
   "outputs": [
    {
     "name": "stdout",
     "output_type": "stream",
     "text": [
      "{\"result\": [\"yes\", \"no\"]}\n"
     ]
    }
   ],
   "source": [
    "%run endpoint.py\n"
   ]
  },
  {
   "cell_type": "code",
   "execution_count": null,
   "metadata": {},
   "outputs": [],
   "source": []
  }
 ],
 "metadata": {
  "kernel_info": {
   "name": "python3-azureml"
  },
  "kernelspec": {
   "display_name": "Python 3.6 - AzureML",
   "language": "python",
   "name": "python3-azureml"
  },
  "language_info": {
   "codemirror_mode": {
    "name": "ipython",
    "version": 3
   },
   "file_extension": ".py",
   "mimetype": "text/x-python",
   "name": "python",
   "nbconvert_exporter": "python",
   "pygments_lexer": "ipython3",
   "version": "3.6.9"
  },
  "nteract": {
   "version": "nteract-front-end@1.0.0"
  }
 },
 "nbformat": 4,
 "nbformat_minor": 2
}
